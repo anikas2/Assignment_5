{
 "cells": [
  {
   "cell_type": "code",
   "execution_count": 2,
   "id": "be49b01e",
   "metadata": {},
   "outputs": [
    {
     "name": "stdout",
     "output_type": "stream",
     "text": [
      "Enter the sequence separated by spaces (e.g., 1 4 9 16): 1 9 25 49 81\n",
      "Nth term formula: 4.0n^2 + -4n + 1\n"
     ]
    }
   ],
   "source": [
    "def find_nth_term_formula(input_sequence):\n",
    " \"\"\"\n",
    " Finds the nth term formula for a sequence based on the way I would calculate it manually\n",
    "\n",
    " Args:\n",
    "   input_sequence: A list of numbers representing the input sequence.\n",
    "\n",
    " Returns:\n",
    "   A string representing the nth term in terms of n.\n",
    " \"\"\"\n",
    "\n",
    " diffs = [b - a for a, b in zip(input_sequence[:-1], input_sequence[1:])]\n",
    " diffs2 = [b - a for a, b in zip(diffs[:-1], diffs[1:])]\n",
    " x = diffs2[0]  # as all terms in diffs2 will be the same\n",
    "\n",
    " n_squared = [i**2 for i in range(1, len(input_sequence) + 1)]\n",
    " x_over_2_n_squared = [int(0.5 * x * n) for n in n_squared]\n",
    "\n",
    " back = [a - b for a, b in zip(input_sequence, x_over_2_n_squared)]\n",
    " middle = [b - a for a, b in zip(back[:-1], back[1:])]\n",
    " y = middle[0]  # as all terms in middle are the same\n",
    "\n",
    " almost = [int(0.5*x * n**2 + y * n) for n in range(1, len(input_sequence) + 1)]\n",
    " z = input_sequence[0] - almost[0]  # as all terms in input - almost are the same\n",
    "\n",
    " return f\"{0.5*x}n^2 + {y}n + {z}\"\n",
    "\n",
    "# input the sequence\n",
    "sequence_str = input(\"Enter the sequence separated by spaces (e.g., 1 4 9 16): \")\n",
    "input_sequence = [int(x) for x in sequence_str.split()]\n",
    "\n",
    "# calculate and print the nth term in a useful format\n",
    "formula = find_nth_term_formula(input_sequence)\n",
    "print(f\"Nth term formula: {formula}\")\n",
    "\n",
    "\n"
   ]
  },
  {
   "cell_type": "code",
   "execution_count": null,
   "id": "840c03d1",
   "metadata": {},
   "outputs": [],
   "source": []
  }
 ],
 "metadata": {
  "kernelspec": {
   "display_name": "Python 3 (ipykernel)",
   "language": "python",
   "name": "python3"
  },
  "language_info": {
   "codemirror_mode": {
    "name": "ipython",
    "version": 3
   },
   "file_extension": ".py",
   "mimetype": "text/x-python",
   "name": "python",
   "nbconvert_exporter": "python",
   "pygments_lexer": "ipython3",
   "version": "3.11.5"
  }
 },
 "nbformat": 4,
 "nbformat_minor": 5
}
